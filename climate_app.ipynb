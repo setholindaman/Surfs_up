{
 "cells": [
  {
   "cell_type": "code",
   "execution_count": 1,
   "metadata": {},
   "outputs": [],
   "source": [
    "import numpy as np\n",
    "\n",
    "import sqlalchemy\n",
    "from sqlalchemy.ext.automap import automap_base\n",
    "from sqlalchemy.orm import Session\n",
    "from sqlalchemy import create_engine, func, inspect\n",
    "\n",
    "from flask import Flask, jsonify\n",
    "import datetime as dt"
   ]
  },
  {
   "cell_type": "code",
   "execution_count": 2,
   "metadata": {},
   "outputs": [
    {
     "name": "stdout",
     "output_type": "stream",
     "text": [
      "2019-05-06 16:20:45,787 INFO sqlalchemy.engine.base.Engine SELECT CAST('test plain returns' AS VARCHAR(60)) AS anon_1\n",
      "2019-05-06 16:20:45,791 INFO sqlalchemy.engine.base.Engine ()\n",
      "2019-05-06 16:20:45,791 INFO sqlalchemy.engine.base.Engine SELECT CAST('test unicode returns' AS VARCHAR(60)) AS anon_1\n",
      "2019-05-06 16:20:45,791 INFO sqlalchemy.engine.base.Engine ()\n",
      "2019-05-06 16:20:45,795 INFO sqlalchemy.engine.base.Engine SELECT name FROM sqlite_master WHERE type='table' ORDER BY name\n",
      "2019-05-06 16:20:45,799 INFO sqlalchemy.engine.base.Engine ()\n",
      "2019-05-06 16:20:45,803 INFO sqlalchemy.engine.base.Engine PRAGMA table_info(\"measurement\")\n",
      "2019-05-06 16:20:45,807 INFO sqlalchemy.engine.base.Engine ()\n",
      "2019-05-06 16:20:45,811 INFO sqlalchemy.engine.base.Engine SELECT sql FROM  (SELECT * FROM sqlite_master UNION ALL   SELECT * FROM sqlite_temp_master) WHERE name = 'measurement' AND type = 'table'\n",
      "2019-05-06 16:20:45,811 INFO sqlalchemy.engine.base.Engine ()\n",
      "2019-05-06 16:20:45,815 INFO sqlalchemy.engine.base.Engine PRAGMA foreign_key_list(\"measurement\")\n",
      "2019-05-06 16:20:45,815 INFO sqlalchemy.engine.base.Engine ()\n",
      "2019-05-06 16:20:45,819 INFO sqlalchemy.engine.base.Engine SELECT sql FROM  (SELECT * FROM sqlite_master UNION ALL   SELECT * FROM sqlite_temp_master) WHERE name = 'measurement' AND type = 'table'\n",
      "2019-05-06 16:20:45,819 INFO sqlalchemy.engine.base.Engine ()\n",
      "2019-05-06 16:20:45,823 INFO sqlalchemy.engine.base.Engine PRAGMA index_list(\"measurement\")\n",
      "2019-05-06 16:20:45,827 INFO sqlalchemy.engine.base.Engine ()\n",
      "2019-05-06 16:20:45,827 INFO sqlalchemy.engine.base.Engine PRAGMA index_list(\"measurement\")\n",
      "2019-05-06 16:20:45,827 INFO sqlalchemy.engine.base.Engine ()\n",
      "2019-05-06 16:20:45,831 INFO sqlalchemy.engine.base.Engine SELECT sql FROM  (SELECT * FROM sqlite_master UNION ALL   SELECT * FROM sqlite_temp_master) WHERE name = 'measurement' AND type = 'table'\n",
      "2019-05-06 16:20:45,831 INFO sqlalchemy.engine.base.Engine ()\n",
      "2019-05-06 16:20:45,835 INFO sqlalchemy.engine.base.Engine PRAGMA table_info(\"station\")\n",
      "2019-05-06 16:20:45,839 INFO sqlalchemy.engine.base.Engine ()\n",
      "2019-05-06 16:20:45,839 INFO sqlalchemy.engine.base.Engine SELECT sql FROM  (SELECT * FROM sqlite_master UNION ALL   SELECT * FROM sqlite_temp_master) WHERE name = 'station' AND type = 'table'\n",
      "2019-05-06 16:20:45,843 INFO sqlalchemy.engine.base.Engine ()\n",
      "2019-05-06 16:20:45,843 INFO sqlalchemy.engine.base.Engine PRAGMA foreign_key_list(\"station\")\n",
      "2019-05-06 16:20:45,847 INFO sqlalchemy.engine.base.Engine ()\n",
      "2019-05-06 16:20:45,847 INFO sqlalchemy.engine.base.Engine SELECT sql FROM  (SELECT * FROM sqlite_master UNION ALL   SELECT * FROM sqlite_temp_master) WHERE name = 'station' AND type = 'table'\n",
      "2019-05-06 16:20:45,847 INFO sqlalchemy.engine.base.Engine ()\n",
      "2019-05-06 16:20:45,851 INFO sqlalchemy.engine.base.Engine PRAGMA index_list(\"station\")\n",
      "2019-05-06 16:20:45,851 INFO sqlalchemy.engine.base.Engine ()\n",
      "2019-05-06 16:20:45,851 INFO sqlalchemy.engine.base.Engine PRAGMA index_list(\"station\")\n",
      "2019-05-06 16:20:45,855 INFO sqlalchemy.engine.base.Engine ()\n",
      "2019-05-06 16:20:45,855 INFO sqlalchemy.engine.base.Engine SELECT sql FROM  (SELECT * FROM sqlite_master UNION ALL   SELECT * FROM sqlite_temp_master) WHERE name = 'station' AND type = 'table'\n",
      "2019-05-06 16:20:45,855 INFO sqlalchemy.engine.base.Engine ()\n"
     ]
    }
   ],
   "source": [
    "engine = create_engine(\"sqlite:///Resources/hawaii.sqlite\", connect_args={'check_same_thread': False}, echo=True)\n",
    "Base = automap_base()\n",
    "Base.prepare(engine, reflect=True)\n",
    "\n",
    "Measurement = Base.classes.measurement\n",
    "Station = Base.classes.station\n",
    "session = Session(engine)"
   ]
  },
  {
   "cell_type": "code",
   "execution_count": 3,
   "metadata": {},
   "outputs": [],
   "source": [
    "app = Flask(__name__)"
   ]
  },
  {
   "cell_type": "code",
   "execution_count": 4,
   "metadata": {},
   "outputs": [],
   "source": [
    "@app.route(\"/\")\n",
    "def welcome():\n",
    "    \"\"\"List all available api routes.\"\"\"\n",
    "    return\n",
    "    \"\"\"\n",
    "    <html>\n",
    "    <h1>List of all available Honolulu, HI API routes</h1>\n",
    "    <ul>\n",
    "    <br>\n",
    "    <li>\n",
    "    Return a list of precipitations from last year:\n",
    "    <br>\n",
    "    <a href=\"/api/v1.0/precipitation\">/api/v1.0/precipitation</a>\n",
    "    </li>\n",
    "    <br>\n",
    "    <li>\n",
    "    Return a JSON list of stations from the dataset: \n",
    "    <br>\n",
    "   <a href=\"/api/v1.0/stations\">/api/v1.0/stations</a>\n",
    "   </li>\n",
    "    <br>\n",
    "    <li>\n",
    "    Return a JSON list of Temperature Observations (tobs) for the previous year:\n",
    "    <br>\n",
    "    <a href=\"/api/v1.0/tobs\">/api/v1.0/tobs</a>\n",
    "    </li>\n",
    "    <br>\n",
    "    <li>\n",
    "    Return a JSON list of tmin, tmax, tavg for the dates greater than or equal to the date provided:\n",
    "    <br>Replace &ltstart&gt with a date in Year-Month-Day format.\n",
    "    <br>\n",
    "    <a href=\"/api/v1.0/2017-01-01\">/api/v1.0/2017-01-01</a>\n",
    "    </li>\n",
    "    <br>\n",
    "    <li>\n",
    "    Return a JSON list of tmin, tmax, tavg for the dates in range of start date and end date inclusive:\n",
    "    <br>\n",
    "    Replace &ltstart&gt and &ltend&gt with a date in Year-Month-Day format. \n",
    "    <br>\n",
    "    <br>\n",
    "    <a href=\"/api/v1.0/2017-01-01/2017-01-07\">/api/v1.0/2017-01-01/2017-01-07</a>\n",
    "    </li>\n",
    "    <br>\n",
    "    </ul>\n",
    "    </html> \n",
    "    \n",
    "    \"\"\""
   ]
  },
  {
   "cell_type": "code",
   "execution_count": 5,
   "metadata": {},
   "outputs": [],
   "source": [
    "@app.route(\"/api/v1.0/precipitation\")\n",
    "def precipitation():\n",
    "\n",
    "    \"\"\"Return a list of precipitations from last year\"\"\"\n",
    "    max_date = (session\n",
    "                .query(Measurement.date)\n",
    "                .order_by(Measurement.date.desc())\n",
    "                .first())\n",
    "\n",
    "    max_date = max_date[0]\n",
    "\n",
    "    year_ago = dt.datetime.strptime(max_date, \"%Y-%m-%d\") - dt.timedelta(days=366)\n",
    "    \n",
    "    results_precipitation = (session\n",
    "                             .query(Measurement.date, Measurement.prcp)\n",
    "                             .filter(Measurement.date >= year_ago)\n",
    "                             .all())\n",
    "\n",
    "    precipitation_dict = dict(results_precipitation)\n",
    "\n",
    "    return jsonify(precipitation_dict)"
   ]
  },
  {
   "cell_type": "code",
   "execution_count": 6,
   "metadata": {},
   "outputs": [],
   "source": [
    "@app.route(\"/api/v1.0/stations\")\n",
    "def stations(): \n",
    "\n",
    "    \"\"\"Return a JSON list of stations from the dataset.\"\"\"\n",
    "    results_stations =  (session\n",
    "                         .query(Measurement.station)\n",
    "                         .group_by(Measurement.station)\n",
    "                         .all())\n",
    "\n",
    "    stations_list = list(np.ravel(results_stations))\n",
    "\n",
    "    return jsonify(stations_list)"
   ]
  },
  {
   "cell_type": "code",
   "execution_count": 7,
   "metadata": {},
   "outputs": [],
   "source": [
    "@app.route(\"/api/v1.0/tobs\")\n",
    "def tobs(): \n",
    "  \n",
    "    \"\"\"Return a JSON list of Temperature Observations (tobs) for the previous year.\"\"\"\n",
    "\n",
    "    max_date = (session\n",
    "                .query(Measurement.date)\n",
    "                .order_by(Measurement.date.desc())\n",
    "                .first())\n",
    "\n",
    "    max_date = max_date[0]\n",
    "\n",
    "    year_ago = dt.datetime.strptime(max_date, \"%Y-%m-%d\") - dt.timedelta(days=366)\n",
    "    \n",
    "    results_tobs = (session\n",
    "                    .query(Measurement.date, Measurement.tobs)\n",
    "                    .filter(Measurement.date >= year_ago)\n",
    "                    .all())\n",
    "\n",
    "    tobs_list = list(results_tobs)\n",
    "\n",
    "    return jsonify(tobs_list)"
   ]
  },
  {
   "cell_type": "code",
   "execution_count": 8,
   "metadata": {},
   "outputs": [],
   "source": [
    "@app.route(\"/api/v1.0/<start>\")\n",
    "def start(start=None):\n",
    "\n",
    "    \"\"\"Return a JSON list of tmin, tmax, tavg for the dates greater than or equal to the date provided\"\"\"\n",
    "\n",
    "    from_start = (session\n",
    "                  .query(Measurement.date, func.min(Measurement.tobs), func.avg(Measurement.tobs), func.max(Measurement.tobs))\n",
    "                  .filter(Measurement.date >= start)\n",
    "                  .group_by(Measurement.date)\n",
    "                  .all())\n",
    "    from_start_list=list(from_start)\n",
    "    return jsonify(from_start_list)"
   ]
  },
  {
   "cell_type": "code",
   "execution_count": 9,
   "metadata": {},
   "outputs": [
    {
     "name": "stdout",
     "output_type": "stream",
     "text": [
      " * Serving Flask app \"__main__\" (lazy loading)\n",
      " * Environment: production\n",
      "   WARNING: Do not use the development server in a production environment.\n",
      "   Use a production WSGI server instead.\n",
      " * Debug mode: on\n"
     ]
    },
    {
     "name": "stderr",
     "output_type": "stream",
     "text": [
      " * Restarting with stat\n"
     ]
    },
    {
     "ename": "SystemExit",
     "evalue": "1",
     "output_type": "error",
     "traceback": [
      "An exception has occurred, use %tb to see the full traceback.\n",
      "\u001b[1;31mSystemExit\u001b[0m\u001b[1;31m:\u001b[0m 1\n"
     ]
    },
    {
     "name": "stderr",
     "output_type": "stream",
     "text": [
      "C:\\Users\\setho\\Anaconda3\\lib\\site-packages\\IPython\\core\\interactiveshell.py:2969: UserWarning: To exit: use 'exit', 'quit', or Ctrl-D.\n",
      "  warn(\"To exit: use 'exit', 'quit', or Ctrl-D.\", stacklevel=1)\n"
     ]
    }
   ],
   "source": [
    "@app.route(\"/api/v1.0/<start>/<end>\")\n",
    "def start_end(start=None, end=None):\n",
    "    \n",
    "    \"\"\"Return a JSON list of tmin, tmax, tavg for the dates in range of start date and end date inclusive\"\"\"\n",
    "    \n",
    "    between_dates = (session\n",
    "                     .query(Measurement.date, func.min(Measurement.tobs), func.avg(Measurement.tobs), func.max(Measurement.tobs))\n",
    "                     .filter(Measurement.date >= start)\n",
    "                     .filter(Measurement.date <= end)\n",
    "                     .group_by(Measurement.date)\n",
    "                     .all())\n",
    "    between_dates_list=list(between_dates)\n",
    "    return jsonify(between_dates_list)\n",
    "\n",
    "if __name__ == '__main__':\n",
    "    app.run(debug=True)"
   ]
  },
  {
   "cell_type": "code",
   "execution_count": null,
   "metadata": {},
   "outputs": [],
   "source": []
  },
  {
   "cell_type": "code",
   "execution_count": null,
   "metadata": {},
   "outputs": [],
   "source": []
  }
 ],
 "metadata": {
  "kernelspec": {
   "display_name": "Python 3",
   "language": "python",
   "name": "python3"
  },
  "language_info": {
   "codemirror_mode": {
    "name": "ipython",
    "version": 3
   },
   "file_extension": ".py",
   "mimetype": "text/x-python",
   "name": "python",
   "nbconvert_exporter": "python",
   "pygments_lexer": "ipython3",
   "version": "3.7.0"
  }
 },
 "nbformat": 4,
 "nbformat_minor": 2
}
